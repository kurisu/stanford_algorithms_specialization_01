{
 "cells": [
  {
   "cell_type": "code",
   "execution_count": 75,
   "metadata": {},
   "outputs": [
    {
     "name": "stdout",
     "output_type": "stream",
     "text": [
      "True\n",
      "Comparisons:  138382\n"
     ]
    }
   ],
   "source": [
    "import math\n",
    "\n",
    "def partition(A, l, r):\n",
    "    p = A[l]\n",
    "    i = l+1\n",
    "    for j in range(l+1, r+1):\n",
    "        if A[j] < p:\n",
    "            A[i], A[j] = A[j], A[i]\n",
    "            i += 1\n",
    "    A[l], A[i-1] = A[i-1], A[l]\n",
    "    return i-1\n",
    "\n",
    "def partitionFirst(A, l, r):\n",
    "    return partition(A, l, r)\n",
    "\n",
    "def partitionLast(A, l, r):\n",
    "    A[l], A[r] = A[r], A[l]\n",
    "    return partition(A, l, r)\n",
    "\n",
    "def partitionMedianOfThree(A, l, r):\n",
    "    x = A[l]\n",
    "    ypos = math.floor((l+r)/2.0)\n",
    "    y = A[ypos]\n",
    "    z = A[r]\n",
    "    median = sorted([x, y, z])[1]\n",
    "    if median == y:\n",
    "        A[l],A[ypos] = A[ypos],A[l]\n",
    "    elif median == z:\n",
    "        A[l],A[r] = A[r],A[l]\n",
    "        \n",
    "    return partition(A, l, r)\n",
    "\n",
    "def quickSortEx(alist, l, r):\n",
    "    if l==r:\n",
    "        return 0\n",
    "    p = partitionMedianOfThree(alist, l, r)\n",
    "    comparisons = (r-l)\n",
    "    \n",
    "    first_part_l = l\n",
    "    first_part_r = max(l, p-1)\n",
    "    second_part_l = min(p+1, r)\n",
    "    second_part_r = r\n",
    "    comparisons += quickSortEx(alist, first_part_l, first_part_r)\n",
    "    comparisons += quickSortEx(alist, second_part_l, second_part_r)\n",
    "    return comparisons\n",
    "    \n",
    "def quickSort(alist):\n",
    "    return quickSortEx(alist, 0, len(alist) - 1)\n",
    "    \n",
    "alist = [int(numeric_string) for numeric_string in open('03_QuickSort.txt').readlines()]\n",
    "comparisons = quickSort(alist)\n",
    "print(\"Comparisons: \", comparisons)\n"
   ]
  },
  {
   "cell_type": "code",
   "execution_count": null,
   "metadata": {
    "collapsed": true
   },
   "outputs": [],
   "source": [
    "\n"
   ]
  }
 ],
 "metadata": {
  "anaconda-cloud": {},
  "kernelspec": {
   "display_name": "Python [conda env:aind]",
   "language": "python",
   "name": "conda-env-aind-py"
  },
  "language_info": {
   "codemirror_mode": {
    "name": "ipython",
    "version": 3
   },
   "file_extension": ".py",
   "mimetype": "text/x-python",
   "name": "python",
   "nbconvert_exporter": "python",
   "pygments_lexer": "ipython3",
   "version": "3.6.0"
  }
 },
 "nbformat": 4,
 "nbformat_minor": 2
}
