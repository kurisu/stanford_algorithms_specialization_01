{
 "cells": [
  {
   "cell_type": "code",
   "execution_count": 6,
   "metadata": {},
   "outputs": [
    {
     "name": "stdout",
     "output_type": "stream",
     "text": [
      "2407905288\n"
     ]
    }
   ],
   "source": [
    "# Started with a mergeSort solution from: http://interactivepython.org/courselib/static/pythonds/SortSearch/TheMergeSort.html\n",
    "# Augmenting this with steps to implement inversion counting\n",
    "def mergeSortAndCount(alist):\n",
    "    if len(alist)>1:\n",
    "        mid = len(alist)//2\n",
    "        lefthalf = alist[:mid]\n",
    "        righthalf = alist[mid:]\n",
    "\n",
    "        c1 = mergeSortAndCount(lefthalf)\n",
    "        c2 = mergeSortAndCount(righthalf)\n",
    "\n",
    "        i=0\n",
    "        j=0\n",
    "        k=0\n",
    "        split_count = 0\n",
    "        while i < len(lefthalf) and j < len(righthalf):\n",
    "            if lefthalf[i] < righthalf[j]:\n",
    "                alist[k]=lefthalf[i]\n",
    "                i=i+1\n",
    "            else:\n",
    "                alist[k]=righthalf[j]\n",
    "                split_count += len(lefthalf) - i\n",
    "                j=j+1\n",
    "            k=k+1\n",
    "\n",
    "        while i < len(lefthalf):\n",
    "            alist[k]=lefthalf[i]\n",
    "            i=i+1\n",
    "            k=k+1\n",
    "\n",
    "        while j < len(righthalf):\n",
    "            alist[k]=righthalf[j]\n",
    "            j=j+1\n",
    "            k=k+1\n",
    "        \n",
    "        return c1 + c2 + split_count\n",
    "    else:\n",
    "        return 0\n",
    "            \n",
    "# alist = [54,26,93,17,77,31,44,55,20]\n",
    "# alist = [1, 3, 5, 2, 4, 6]\n",
    "alist = [int(numeric_string) for numeric_string in open('02_IntegerArray.txt').readlines()]\n",
    "inversions = mergeSortAndCount(alist)\n",
    "print(inversions)\n"
   ]
  }
 ],
 "metadata": {
  "anaconda-cloud": {},
  "kernelspec": {
   "display_name": "Python [conda env:aind]",
   "language": "python",
   "name": "conda-env-aind-py"
  },
  "language_info": {
   "codemirror_mode": {
    "name": "ipython",
    "version": 3
   },
   "file_extension": ".py",
   "mimetype": "text/x-python",
   "name": "python",
   "nbconvert_exporter": "python",
   "pygments_lexer": "ipython3",
   "version": "3.6.0"
  }
 },
 "nbformat": 4,
 "nbformat_minor": 2
}
