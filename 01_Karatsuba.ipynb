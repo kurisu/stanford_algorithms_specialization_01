{
 "cells": [
  {
   "cell_type": "code",
   "execution_count": 49,
   "metadata": {},
   "outputs": [
    {
     "name": "stdout",
     "output_type": "stream",
     "text": [
      "---------------------------\n",
      "8539734222673567065463550869546574495034888535765114961879601127067743044893204848617875072216249073013374895871952806582723184\n",
      "-----\n",
      "8539734222673567065463550869546574495034888535765114961879601127067743044893204848617875072216249073013374895871952806582723184\n"
     ]
    }
   ],
   "source": [
    "import math\n",
    "\n",
    "def splitBothInHalf(s1, s2):\n",
    "    if len(s1) <= len(s2):\n",
    "        split_digit = round(len(s1)//2)\n",
    "    else:\n",
    "        split_digit = round(len(s2)//2)\n",
    "    a = s1[:-split_digit]\n",
    "    b = s1[-split_digit:]\n",
    "    c = s2[:-split_digit]\n",
    "    d = s2[-split_digit:]\n",
    "    return a, b, c, d\n",
    "\n",
    "def multiply(x, y):\n",
    "    if (len(x) == 1) or (len(y) == 1):\n",
    "        return int(x)*int(y)\n",
    "\n",
    "    a, b, c, d = splitBothInHalf(x, y)\n",
    "  \n",
    "    n = multiply(a, c)\n",
    "    m = multiply(b, d)\n",
    "    o = multiply('{0:d}'.format(int(a) + int(b)), '{0:d}'.format(int(c) + int(d)))\n",
    "    p = o - m - n\n",
    "    \n",
    "    e = 10**(len(b))\n",
    "    \n",
    "    answer = int(((e**2) * n) + (e * p) + m)\n",
    "    real_answer = (int(x)*int(y))\n",
    "    \n",
    "    if answer != real_answer:\n",
    "        print(\"----------DIFFERENCE\")\n",
    "        print(x, y)\n",
    "        print(a, b, c, d)\n",
    "        print(n, m, o, p)\n",
    "        print(e)\n",
    "        print(answer)\n",
    "        print(real_answer)\n",
    "    return answer\n",
    "    \n",
    "a = \"3141592653589793238462643383279502884197169399375105820974944592\"\n",
    "b = \"2718281828459045235360287471352662497757247093699959574966967627\"\n",
    "res = '{0:d}'.format(multiply(a,b))\n",
    "print(\"---------------------------\")\n",
    "print(res)\n",
    "print(\"-----\")\n",
    "print(int(a)*int(b))"
   ]
  },
  {
   "cell_type": "code",
   "execution_count": 47,
   "metadata": {},
   "outputs": [
    {
     "data": {
      "text/plain": [
       "'17'"
      ]
     },
     "execution_count": 47,
     "metadata": {},
     "output_type": "execute_result"
    }
   ],
   "source": [
    "\"172\"[:-1]"
   ]
  }
 ],
 "metadata": {
  "kernelspec": {
   "display_name": "Python [Root]",
   "language": "python",
   "name": "Python [Root]"
  },
  "language_info": {
   "codemirror_mode": {
    "name": "ipython",
    "version": 3
   },
   "file_extension": ".py",
   "mimetype": "text/x-python",
   "name": "python",
   "nbconvert_exporter": "python",
   "pygments_lexer": "ipython3",
   "version": "3.5.3"
  }
 },
 "nbformat": 4,
 "nbformat_minor": 2
}
