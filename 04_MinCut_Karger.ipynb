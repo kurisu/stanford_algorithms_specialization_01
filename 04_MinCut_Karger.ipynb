{
 "cells": [
  {
   "cell_type": "code",
   "execution_count": 446,
   "metadata": {},
   "outputs": [
    {
     "name": "stdout",
     "output_type": "stream",
     "text": [
      "Iterations required to have a low chance of failure:  133\n",
      "1 [2, 3, 4, 7]\n",
      "2 [1, 3, 4]\n",
      "3 [1, 2, 4]\n",
      "4 [1, 2, 3, 5]\n",
      "7 [1, 5, 6, 8]\n",
      "5 [4, 6, 7, 8]\n",
      "6 [5, 7, 8]\n",
      "8 [5, 6, 7]\n",
      "Cuts\n",
      "{'[(1, 7)]': [2, [1, 2, 3, 4], [5, 6, 7, 8]]}\n"
     ]
    }
   ],
   "source": [
    "%matplotlib notebook\n",
    "import warnings\n",
    "warnings.filterwarnings(\"ignore\")\n",
    "import networkx as nx\n",
    "import math\n",
    "import random\n",
    "import pprint\n",
    "pp = pprint.PrettyPrinter(indent=4)\n",
    "\n",
    "def minCutKarger(G):\n",
    "    # Create a local copy of the undirected graph\n",
    "    G = G.copy()\n",
    "\n",
    "    # Re-seed our random number generator, to ensure a different contraction.\n",
    "    random.seed()\n",
    "    while G.number_of_nodes() > 2:\n",
    "        # Pick an edge at random\n",
    "        E = nx.edges(G)\n",
    "        idx = random.randrange(0, len(E), 1)\n",
    "        e =E[idx]\n",
    "\n",
    "        # Contract the two vertices\n",
    "        v_members = G.node[e[1]]['members']\n",
    "        G = nx.contracted_nodes(G, e[0], e[1], self_loops=False)\n",
    "        G.node[e[0]]['members'] = list(set(G.node[e[0]]['members'])|set([e[0],e[1]]))\n",
    "        G.node[e[0]]['members'] = list(set(G.node[e[0]]['members'])|set(v_members))\n",
    "    return G\n",
    "\n",
    "G = nx.Graph()\n",
    "for line in open(\"04_testcase_1.txt\"):\n",
    "    row = line.strip().split(\"\\t\")\n",
    "    sample = [int(x) for x in row]\n",
    "    v = sample[0]\n",
    "    for y in sample[1:]:\n",
    "        G.add_edge(v, y)\n",
    "    G.node[v] = {'members': [v]}\n",
    "\n",
    "# nx.draw(G)\n",
    "\n",
    "n = nx.number_of_nodes(G)\n",
    "iterations_needed = int((n**2)*math.log(n))\n",
    "print(\"Iterations required to have a low chance of failure: \", iterations_needed)\n",
    "\n",
    "for node in G.nodes():\n",
    "    print(node, G.neighbors(node))\n",
    "\n",
    "min_cut_size = nx.number_of_edges(G)\n",
    "cuts = {}\n",
    "\n",
    "for i in range(1,iterations_needed):\n",
    "    cut = minCutKarger(G)\n",
    "    cut_size = 0\n",
    "    u_members = cut.node[cut.nodes()[0]]['members']\n",
    "    v_members = cut.node[cut.nodes()[1]]['members']\n",
    "    for u_member in u_members:\n",
    "        for neighbor in G.neighbors(u_member):\n",
    "            if neighbor in v_members:\n",
    "                cut_size += 1\n",
    "    if cut_size < min_cut_size:\n",
    "        cuts.clear()\n",
    "        min_cut_size = cut_size\n",
    "    if cut_size == min_cut_size:\n",
    "        cuts[str(cut.edges())] = [cut_size, u_members, v_members]\n",
    "\n",
    "print(\"Cuts\")\n",
    "pp.pprint(cuts)\n"
   ]
  }
 ],
 "metadata": {
  "anaconda-cloud": {},
  "kernelspec": {
   "display_name": "Python [conda env:aind]",
   "language": "python",
   "name": "conda-env-aind-py"
  },
  "language_info": {
   "codemirror_mode": {
    "name": "ipython",
    "version": 3
   },
   "file_extension": ".py",
   "mimetype": "text/x-python",
   "name": "python",
   "nbconvert_exporter": "python",
   "pygments_lexer": "ipython3",
   "version": "3.6.0"
  }
 },
 "nbformat": 4,
 "nbformat_minor": 2
}
