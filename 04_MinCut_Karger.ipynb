{
 "cells": [
  {
   "cell_type": "code",
   "execution_count": 90,
   "metadata": {},
   "outputs": [
    {
     "name": "stdout",
     "output_type": "stream",
     "text": [
      "Iterations required to have a low chance of failure:  211932\n",
      "Edge:  (79, 90)\n",
      "[(79, 1), (79, 78), (79, 90), (79, 47)]\n",
      "[(90, 79), (90, 78)]\n",
      "After contraction:  [(79, 1), (79, 78), (79, 47)]\n",
      "---Edges\n",
      "[(1, 79), (1, 78), (79, 78), (79, 47), (78, 47)]\n",
      "---Nodes\n",
      "[1, 79, 78, 47]\n",
      "----------------\n",
      "[1, 47]\n",
      "[(1, 47)]\n",
      "1\n"
     ]
    }
   ],
   "source": [
    "%matplotlib notebook\n",
    "import warnings\n",
    "warnings.filterwarnings(\"ignore\")\n",
    "import networkx as nx\n",
    "import math\n",
    "import random\n",
    "\n",
    "def minCutKarger(G):\n",
    "    # Create a local copy of the undirected graph\n",
    "    G = G.copy()\n",
    "\n",
    "    # Re-seed our random number generator, to ensure a different contraction.\n",
    "    random.seed()\n",
    "    while G.number_of_nodes() > 2:\n",
    "        # Pick an edge at random\n",
    "        idx = int((random.random() * (G.number_of_edges() - 1)))\n",
    "        e =nx.edges(G)[idx]\n",
    "        if G.number_of_nodes() == 5:\n",
    "            print(\"Edge: \", e)\n",
    "            print(G.edges(e[0]))\n",
    "            print(G.edges(e[1]))\n",
    "#         a, b = e[0], e[1]\n",
    "        # Contract the two vertices\n",
    "#         print(\"-----Contracting: \", a, b)\n",
    "        G = nx.contracted_edge(G, e, self_loops=False)            \n",
    "        if G.number_of_nodes() == 4:\n",
    "            print(\"After contraction: \", G.edges(e[0]))\n",
    "            print(\"---Edges\")\n",
    "            print(G.edges())\n",
    "            print(\"---Nodes\")\n",
    "            print(G.nodes())\n",
    "            print(\"----------------\")\n",
    "#         print(\"NEW SIZE: \", G.number_of_nodes())\n",
    "        \n",
    "    return G\n",
    "\n",
    "G = nx.Graph()\n",
    "for line in open(\"04_MinCut.txt\"):\n",
    "    row = line.strip().split(\"\\t\")\n",
    "    sample = [int(x) for x in row]\n",
    "    v = sample[0]\n",
    "    for y in sample[1:]:\n",
    "        G.add_edge(v, y)\n",
    "\n",
    "n = nx.number_of_nodes(G)\n",
    "iterations_needed = int((n**2)*math.log(n))\n",
    "print(\"Iterations required to have a low chance of failure: \", iterations_needed)\n",
    "\n",
    "# nx.draw(G)\n",
    "cut = minCutKarger(G)\n",
    "print(cut.nodes())\n",
    "print(cut.edges())\n",
    "print(cut.number_of_edges())\n"
   ]
  }
 ],
 "metadata": {
  "anaconda-cloud": {},
  "kernelspec": {
   "display_name": "Python [conda env:aind]",
   "language": "python",
   "name": "conda-env-aind-py"
  },
  "language_info": {
   "codemirror_mode": {
    "name": "ipython",
    "version": 3
   },
   "file_extension": ".py",
   "mimetype": "text/x-python",
   "name": "python",
   "nbconvert_exporter": "python",
   "pygments_lexer": "ipython3",
   "version": "3.6.0"
  }
 },
 "nbformat": 4,
 "nbformat_minor": 2
}
