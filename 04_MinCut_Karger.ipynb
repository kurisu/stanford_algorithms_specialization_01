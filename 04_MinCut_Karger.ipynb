{
 "cells": [
  {
   "cell_type": "code",
   "execution_count": 60,
   "metadata": {},
   "outputs": [
    {
     "name": "stdout",
     "output_type": "stream",
     "text": [
      "Iterations required to have a low chance of failure:  211932\n",
      "[1, 37, 79, 164, 155, 32, 87, 39, 113, 15, 18, 78, 175, 140, 200, 4, 160, 97, 191, 100, 91, 20, 69, 198, 196]\n",
      "-----Combining:  175 58\n",
      "175 [86, 122, 79, 171, 164, 68, 62, 84, 140, 5, 40, 196, 46, 174, 150, 67, 58, 76, 193, 158, 107, 78, 22, 137, 75, 151, 85, 195, 64, 1, 133]\n",
      "58 [15, 146, 107, 193, 140, 84, 144, 86, 14, 150, 26, 60, 46, 166, 80, 87, 139, 195, 126, 45, 37, 27, 102, 62, 32, 175, 39, 124, 23, 93, 188]\n",
      "[1, 5, 133, 137, 139, 140, 14, 15, 144, 146, 150, 22, 151, 23, 26, 27, 158, 32, 164, 37, 166, 39, 40, 171, 45, 46, 174, 175, 58, 60, 188, 62, 64, 193, 67, 68, 196, 195, 75, 76, 78, 79, 80, 84, 85, 86, 87, 93, 102, 107, 122, 124, 126]\n"
     ]
    },
    {
     "ename": "TypeError",
     "evalue": "'int' object is not subscriptable",
     "output_type": "error",
     "traceback": [
      "\u001b[0;31m---------------------------------------------------------------------------\u001b[0m",
      "\u001b[0;31mTypeError\u001b[0m                                 Traceback (most recent call last)",
      "\u001b[0;32m<ipython-input-60-24e5fbd12c64>\u001b[0m in \u001b[0;36m<module>\u001b[0;34m()\u001b[0m\n\u001b[1;32m     68\u001b[0m \u001b[0;31m# print(E[0:30])\u001b[0m\u001b[0;34m\u001b[0m\u001b[0;34m\u001b[0m\u001b[0m\n\u001b[1;32m     69\u001b[0m \u001b[0;34m\u001b[0m\u001b[0m\n\u001b[0;32m---> 70\u001b[0;31m \u001b[0mcut\u001b[0m \u001b[0;34m=\u001b[0m \u001b[0mminCutKarger\u001b[0m\u001b[0;34m(\u001b[0m\u001b[0mX\u001b[0m\u001b[0;34m)\u001b[0m\u001b[0;34m\u001b[0m\u001b[0m\n\u001b[0m\u001b[1;32m     71\u001b[0m \u001b[0mprint\u001b[0m\u001b[0;34m(\u001b[0m\u001b[0mcut\u001b[0m\u001b[0;34m)\u001b[0m\u001b[0;34m\u001b[0m\u001b[0m\n",
      "\u001b[0;32m<ipython-input-60-24e5fbd12c64>\u001b[0m in \u001b[0;36mminCutKarger\u001b[0;34m(G)\u001b[0m\n\u001b[1;32m     31\u001b[0m         \u001b[0mcombined_edges\u001b[0m \u001b[0;34m=\u001b[0m \u001b[0mlist\u001b[0m\u001b[0;34m(\u001b[0m\u001b[0mset\u001b[0m\u001b[0;34m(\u001b[0m\u001b[0ma_edges\u001b[0m\u001b[0;34m)\u001b[0m\u001b[0;34m|\u001b[0m\u001b[0mset\u001b[0m\u001b[0;34m(\u001b[0m\u001b[0mb_edges\u001b[0m\u001b[0;34m)\u001b[0m\u001b[0;34m)\u001b[0m\u001b[0;34m\u001b[0m\u001b[0m\n\u001b[1;32m     32\u001b[0m         \u001b[0mprint\u001b[0m\u001b[0;34m(\u001b[0m\u001b[0mcombined_edges\u001b[0m\u001b[0;34m)\u001b[0m\u001b[0;34m\u001b[0m\u001b[0m\n\u001b[0;32m---> 33\u001b[0;31m         \u001b[0ma\u001b[0m\u001b[0;34m[\u001b[0m\u001b[0;36m1\u001b[0m\u001b[0;34m]\u001b[0m\u001b[0;34m\u001b[0m\u001b[0m\n\u001b[0m\u001b[1;32m     34\u001b[0m         \u001b[0;31m# ...removing self-loops\u001b[0m\u001b[0;34m\u001b[0m\u001b[0;34m\u001b[0m\u001b[0m\n\u001b[1;32m     35\u001b[0m         \u001b[0;32mif\u001b[0m \u001b[0ma\u001b[0m \u001b[0;32min\u001b[0m \u001b[0mcombined_edges\u001b[0m\u001b[0;34m:\u001b[0m \u001b[0mcombined_edges\u001b[0m\u001b[0;34m.\u001b[0m\u001b[0mremove\u001b[0m\u001b[0;34m(\u001b[0m\u001b[0ma\u001b[0m\u001b[0;34m)\u001b[0m\u001b[0;34m\u001b[0m\u001b[0m\n",
      "\u001b[0;31mTypeError\u001b[0m: 'int' object is not subscriptable"
     ]
    }
   ],
   "source": [
    "import numpy as np\n",
    "import math\n",
    "import random\n",
    "\n",
    "def graphToEdgeList(G):\n",
    "    E = []\n",
    "    for v in G:\n",
    "        if v != -1:\n",
    "            for e in v[1:]:\n",
    "                E.append([v[0], e])\n",
    "    return E\n",
    "\n",
    "def minCutKarger(G):\n",
    "    # Create a local copy of the undirected graph\n",
    "    G = np.array(G)\n",
    "\n",
    "    # Re-seed our random number generator, to ensure a different contraction.\n",
    "    random.seed()\n",
    "    while (G!=-1).sum() > 2:\n",
    "        # Pick an edge at random\n",
    "        E = graphToEdgeList(G)\n",
    "\n",
    "        idx = int((random.random() * (len(E) - 1)))\n",
    "        a, b = E[idx][0], E[idx][1]\n",
    "        # Combine the two vertices\n",
    "        a_edges = G[a-1][1:]\n",
    "        b_edges = G[b-1][1:]\n",
    "        print(\"-----Combining: \", a, b)\n",
    "        print(a, a_edges)\n",
    "        print(b, b_edges)\n",
    "        combined_edges = list(set(a_edges)|set(b_edges))\n",
    "        print(combined_edges)\n",
    "        a[1]\n",
    "        # ...removing self-loops\n",
    "        if a in combined_edges: combined_edges.remove(a)\n",
    "        if b in combined_edges: combined_edges.remove(b)\n",
    "        new_a = [a]\n",
    "        new_a.extend(combined_edges)\n",
    "        print(\"new_a: \", new_a)\n",
    "        G[a-1] = new_a\n",
    "        G[b-1] = -1\n",
    "        # Redirect any other references to the now-deleted b to the merged node a\n",
    "        for v in G:\n",
    "            if v != -1:\n",
    "                if b in v[1:]: \n",
    "                    print(v)\n",
    "                    v.remove(b)\n",
    "                    if a not in v[1:]: v.extend([a])\n",
    "            \n",
    "        print(\"NEW SIZE: \", (G!=-1).sum())\n",
    "        \n",
    "    return G\n",
    "        \n",
    "X = []\n",
    "for line in open(\"04_MinCut.txt\"):\n",
    "    row = line.strip().split(\"\\t\")\n",
    "    sample = [int(x) for x in row]\n",
    "    X.append(sample)\n",
    "\n",
    "X = np.array(X)\n",
    "\n",
    "n = X.shape[0]\n",
    "iterations_needed = int((n**2)*math.log(n))\n",
    "print(\"Iterations required to have a low chance of failure: \", iterations_needed)\n",
    "\n",
    "print(X[0])\n",
    "# E = graphToEdgeList(X)\n",
    "# print(E[0:30])\n",
    "\n",
    "cut = minCutKarger(X)\n",
    "print(cut)"
   ]
  }
 ],
 "metadata": {
  "anaconda-cloud": {},
  "kernelspec": {
   "display_name": "Python [conda env:aind]",
   "language": "python",
   "name": "conda-env-aind-py"
  },
  "language_info": {
   "codemirror_mode": {
    "name": "ipython",
    "version": 3
   },
   "file_extension": ".py",
   "mimetype": "text/x-python",
   "name": "python",
   "nbconvert_exporter": "python",
   "pygments_lexer": "ipython3",
   "version": "3.6.0"
  }
 },
 "nbformat": 4,
 "nbformat_minor": 2
}
